{
  "nbformat": 4,
  "nbformat_minor": 0,
  "metadata": {
    "colab": {
      "name": "Практическое задание к уроку 2.ipynb",
      "provenance": []
    },
    "kernelspec": {
      "name": "python3",
      "display_name": "Python 3"
    },
    "language_info": {
      "name": "python"
    }
  },
  "cells": [
    {
      "cell_type": "markdown",
      "metadata": {
        "id": "VbXVD4YxOlFR"
      },
      "source": [
        "Задача 1\n",
        "\n",
        "Контрольная работа состоит из пяти вопросов. На каждый вопрос приведено четыре варианта ответа, один из которых правильный. Составьте закон распределения числа правильных ответов при простом угадывании. Найдите M(X), D(X)."
      ]
    },
    {
      "cell_type": "markdown",
      "metadata": {
        "id": "8LusRMEqQTrq"
      },
      "source": [
        "Способ решения: Нужно определить как распределятся правильные ответы, т.е вероятности: 0,1,2,3,4 и 5 правильных ответов"
      ]
    },
    {
      "cell_type": "code",
      "metadata": {
        "id": "BO97Qy1HpM6S"
      },
      "source": [
        "from math import factorial as fac"
      ],
      "execution_count": 3,
      "outputs": []
    },
    {
      "cell_type": "code",
      "metadata": {
        "id": "W5hKgAbSO2SE"
      },
      "source": [
        "def distribution(n,k, probability):\n",
        "    return ((fac(n)/(fac(k)*fac(n-k))) * (probability**k) * ((1-probability)**(n-k)))"
      ],
      "execution_count": 4,
      "outputs": []
    },
    {
      "cell_type": "code",
      "metadata": {
        "colab": {
          "base_uri": "https://localhost:8080/"
        },
        "id": "gFxGCusNO2LC",
        "outputId": "9c50f5d1-3207-429f-a1ff-06ca1bb98dc0"
      },
      "source": [
        "x1 = distribution(5,0,0.25)\n",
        "x1"
      ],
      "execution_count": 5,
      "outputs": [
        {
          "output_type": "execute_result",
          "data": {
            "text/plain": [
              "0.2373046875"
            ]
          },
          "metadata": {},
          "execution_count": 5
        }
      ]
    },
    {
      "cell_type": "code",
      "metadata": {
        "colab": {
          "base_uri": "https://localhost:8080/"
        },
        "id": "iSuXxr5BO2E5",
        "outputId": "28491720-72fe-4e90-91be-63bea2f6ca16"
      },
      "source": [
        "x2 = distribution(5,1,0.25)\n",
        "x2"
      ],
      "execution_count": 6,
      "outputs": [
        {
          "output_type": "execute_result",
          "data": {
            "text/plain": [
              "0.3955078125"
            ]
          },
          "metadata": {},
          "execution_count": 6
        }
      ]
    },
    {
      "cell_type": "code",
      "metadata": {
        "colab": {
          "base_uri": "https://localhost:8080/"
        },
        "id": "LPUtMUJ2O1-V",
        "outputId": "6f57c2ec-ae66-454e-deab-35ef4ad0b210"
      },
      "source": [
        "x3 = distribution(5,2,0.25)\n",
        "x3"
      ],
      "execution_count": 7,
      "outputs": [
        {
          "output_type": "execute_result",
          "data": {
            "text/plain": [
              "0.263671875"
            ]
          },
          "metadata": {},
          "execution_count": 7
        }
      ]
    },
    {
      "cell_type": "code",
      "metadata": {
        "colab": {
          "base_uri": "https://localhost:8080/"
        },
        "id": "Ms6HNUL2O13b",
        "outputId": "53dd2562-8ef9-497b-a54b-a908f1bbe6c9"
      },
      "source": [
        "x4 = distribution(5,3,0.25)\n",
        "x4"
      ],
      "execution_count": 8,
      "outputs": [
        {
          "output_type": "execute_result",
          "data": {
            "text/plain": [
              "0.087890625"
            ]
          },
          "metadata": {},
          "execution_count": 8
        }
      ]
    },
    {
      "cell_type": "code",
      "metadata": {
        "colab": {
          "base_uri": "https://localhost:8080/"
        },
        "id": "fggtNYafO1xK",
        "outputId": "0db42d17-7b09-4b69-e413-f73ced74e701"
      },
      "source": [
        "x5= distribution(5,4,0.25)\n",
        "x5"
      ],
      "execution_count": 9,
      "outputs": [
        {
          "output_type": "execute_result",
          "data": {
            "text/plain": [
              "0.0146484375"
            ]
          },
          "metadata": {},
          "execution_count": 9
        }
      ]
    },
    {
      "cell_type": "code",
      "metadata": {
        "colab": {
          "base_uri": "https://localhost:8080/"
        },
        "id": "dQVNZzIbO1q7",
        "outputId": "b95d4c11-a6c8-40bf-8c78-e90e9670588d"
      },
      "source": [
        "x6 = distribution(5,5,0.25)\n",
        "x6"
      ],
      "execution_count": 10,
      "outputs": [
        {
          "output_type": "execute_result",
          "data": {
            "text/plain": [
              "0.0009765625"
            ]
          },
          "metadata": {},
          "execution_count": 10
        }
      ]
    },
    {
      "cell_type": "code",
      "metadata": {
        "colab": {
          "base_uri": "https://localhost:8080/"
        },
        "id": "JvkaQwMhO1kP",
        "outputId": "4112e820-1c68-4330-ac07-128128081d88"
      },
      "source": [
        "x1+x2+x3+x4+x5+x6"
      ],
      "execution_count": 11,
      "outputs": [
        {
          "output_type": "execute_result",
          "data": {
            "text/plain": [
              "1.0"
            ]
          },
          "metadata": {},
          "execution_count": 11
        }
      ]
    },
    {
      "cell_type": "markdown",
      "metadata": {
        "id": "Lva9GTM4QJvO"
      },
      "source": [
        "Probability\n",
        "\n",
        "---\n",
        "\n",
        "\n",
        "\n",
        "<table border=\"3\">\n",
        "    <tr>\n",
        "        <th>$x$</th>\n",
        "        <td>0</td>\n",
        "        <td>1</td>\n",
        "        <td>2</td>\n",
        "        <td>3</td>\n",
        "        <td>4</td>\n",
        "        <td>5</td> \n",
        "    </tr>\n",
        "    <tr>\n",
        "        <th>$P(X = x)$</th>\n",
        "        <td>0.23</td>\n",
        "        <td>0.39</td>\n",
        "        <td>0.26</td>\n",
        "        <td>0.08</td>\n",
        "        <td>0.014</td>\n",
        "        <td>0.0009</td>\n",
        "    </tr>\n",
        "</table>"
      ]
    },
    {
      "cell_type": "code",
      "metadata": {
        "colab": {
          "base_uri": "https://localhost:8080/"
        },
        "id": "R6TkACV9O1ce",
        "outputId": "469d7bc1-94f1-4085-8699-c6aaa389be87"
      },
      "source": [
        "M_x = 0.25 * 6\n",
        "M_x"
      ],
      "execution_count": 12,
      "outputs": [
        {
          "output_type": "execute_result",
          "data": {
            "text/plain": [
              "1.5"
            ]
          },
          "metadata": {},
          "execution_count": 12
        }
      ]
    },
    {
      "cell_type": "code",
      "metadata": {
        "colab": {
          "base_uri": "https://localhost:8080/"
        },
        "id": "zvTePSu3O1SO",
        "outputId": "29be1094-819c-4eb8-c8b7-908f031f0a77"
      },
      "source": [
        "D_x = M_x * (1 - 0.25)\n",
        "D_x"
      ],
      "execution_count": 13,
      "outputs": [
        {
          "output_type": "execute_result",
          "data": {
            "text/plain": [
              "1.125"
            ]
          },
          "metadata": {},
          "execution_count": 13
        }
      ]
    },
    {
      "cell_type": "markdown",
      "metadata": {
        "id": "pT7pBtmxQpwG"
      },
      "source": [
        "Задача 2\n",
        "\n",
        "Вероятность поймать рыбу при одном забрасывании удочки равна 0.01. Какова вероятность того, что число пойманных рыб при 200 забросах удочки будет не менее 5 и не более 10?"
      ]
    },
    {
      "cell_type": "code",
      "metadata": {
        "colab": {
          "base_uri": "https://localhost:8080/"
        },
        "id": "owbpbRdQQumu",
        "outputId": "6190a5cc-eadb-4269-bdbb-f3cbe9b8f863"
      },
      "source": [
        "sum(distribution(n = 200, k=i, probability=0.01) for i in range(5,11,1))"
      ],
      "execution_count": 14,
      "outputs": [
        {
          "output_type": "execute_result",
          "data": {
            "text/plain": [
              "0.051739381860374606"
            ]
          },
          "metadata": {},
          "execution_count": 14
        }
      ]
    },
    {
      "cell_type": "markdown",
      "metadata": {
        "id": "ZtLNYEHtRNFC"
      },
      "source": [
        "Задача 3\n",
        "\n",
        "В условиях предыдущей задачи сколько забросов удочки нужно сделать чтобы быть уверенным с вероятностью 0.9, что хотя бы 10 раз будет поймана рыба? Подсказка. Как посчитать P(X >= k) для величины X, имеющей биномиальное распределение? Здесь предстоит немножко покодить."
      ]
    },
    {
      "cell_type": "code",
      "metadata": {
        "colab": {
          "base_uri": "https://localhost:8080/"
        },
        "id": "uH2mpS2MRVHO",
        "outputId": "6dcc4acc-ce4b-4fc2-e993-5c6aeb891138"
      },
      "source": [
        "n = 10\n",
        "k = 10\n",
        "X = distribution(n, k, 0.01)\n",
        "while X < 0.9:    \n",
        "    n+=1\n",
        "    X = sum(distribution(n = n,k=k, probability=0.01) for i in range(0,n,1))\n",
        "n"
      ],
      "execution_count": 22,
      "outputs": [
        {
          "output_type": "execute_result",
          "data": {
            "text/plain": [
              "358"
            ]
          },
          "metadata": {},
          "execution_count": 22
        }
      ]
    }
  ]
}