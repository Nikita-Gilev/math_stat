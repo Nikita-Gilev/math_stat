{
  "nbformat": 4,
  "nbformat_minor": 5,
  "metadata": {
    "kernelspec": {
      "display_name": "Python 3",
      "language": "python",
      "name": "python3"
    },
    "language_info": {
      "codemirror_mode": {
        "name": "ipython",
        "version": 3
      },
      "file_extension": ".py",
      "mimetype": "text/x-python",
      "name": "python",
      "nbconvert_exporter": "python",
      "pygments_lexer": "ipython3",
      "version": "3.9.1"
    },
    "colab": {
      "name": "Корректировка задания к уроку 2.ipynb\"",
      "provenance": [],
      "include_colab_link": true
    }
  },
  "cells": [
    {
      "cell_type": "markdown",
      "metadata": {
        "id": "view-in-github",
        "colab_type": "text"
      },
      "source": [
        "<a href=\"https://colab.research.google.com/github/Nikita-Gilev/math_stat/blob/lesson_2/%D0%9A%D0%BE%D1%80%D1%80%D0%B5%D0%BA%D1%82%D0%B8%D1%80%D0%BE%D0%B2%D0%BA%D0%B0_%D0%B7%D0%B0%D0%B4%D0%B0%D0%BD%D0%B8%D1%8F_%D0%BA_%D1%83%D1%80%D0%BE%D0%BA%D1%83_2.ipynb\" target=\"_parent\"><img src=\"https://colab.research.google.com/assets/colab-badge.svg\" alt=\"Open In Colab\"/></a>"
      ]
    },
    {
      "cell_type": "code",
      "metadata": {
        "id": "heavy-receiver"
      },
      "source": [
        "import numpy as np\n",
        "from decimal import Decimal\n",
        "from scipy.stats import poisson\n",
        "from scipy.stats import binom"
      ],
      "id": "heavy-receiver",
      "execution_count": 4,
      "outputs": []
    },
    {
      "cell_type": "code",
      "metadata": {
        "id": "broke-aaron"
      },
      "source": [
        "import scipy.stats as sps"
      ],
      "id": "broke-aaron",
      "execution_count": 5,
      "outputs": []
    },
    {
      "cell_type": "code",
      "metadata": {
        "id": "dimensional-electricity"
      },
      "source": [
        "import matplotlib.pyplot as plt"
      ],
      "id": "dimensional-electricity",
      "execution_count": 6,
      "outputs": []
    },
    {
      "cell_type": "code",
      "metadata": {
        "id": "swiss-canberra"
      },
      "source": [
        "from math import *"
      ],
      "id": "swiss-canberra",
      "execution_count": 7,
      "outputs": []
    },
    {
      "cell_type": "code",
      "metadata": {
        "id": "thirty-animation"
      },
      "source": [
        "def combination (m, n):\n",
        "    c = np.math.factorial(n)//(np.math.factorial(m)*np.math.factorial(n - m))\n",
        "    return c"
      ],
      "id": "thirty-animation",
      "execution_count": 8,
      "outputs": []
    },
    {
      "cell_type": "code",
      "metadata": {
        "id": "nominated-jordan"
      },
      "source": [
        "def bernulli (k, n, p):\n",
        "    P = combination(k, n) * p**k * (1-p)**(n-k)\n",
        "    return P"
      ],
      "id": "nominated-jordan",
      "execution_count": 9,
      "outputs": []
    },
    {
      "cell_type": "code",
      "metadata": {
        "id": "emerging-clerk"
      },
      "source": [
        "def p_poisson(k, p_lambda):\n",
        "    P = (p_lambda**k) * (np.exp(-p_lambda))/np.math.factorial(k)\n",
        "    return P"
      ],
      "id": "emerging-clerk",
      "execution_count": 10,
      "outputs": []
    },
    {
      "cell_type": "markdown",
      "metadata": {
        "id": "imperial-harvey"
      },
      "source": [
        "Задача 1"
      ],
      "id": "imperial-harvey"
    },
    {
      "cell_type": "markdown",
      "metadata": {
        "id": "sweet-bosnia"
      },
      "source": [
        "Контрольная работа состоит из пяти вопросов. На каждый вопрос приведено четыре варианта ответа, один из которых правильный. Составьте закон распределения числа правильных ответов при простом угадывании. Найдите `M(X)`, `D(X)`."
      ],
      "id": "sweet-bosnia"
    },
    {
      "cell_type": "markdown",
      "metadata": {
        "id": "innovative-picture"
      },
      "source": [
        "Выбор правильного ответа случаен для любого из вопросов, вероятность выбора правильного ответа одинакова для всех вопросов и соотетствует 0,25.    \n",
        "Воспользуюсь формулой Бернулли со следующими параметрами n = 4, p =0.25, k=0...4, где к - количество правильных ответов.\n",
        "\n"
      ],
      "id": "innovative-picture"
    },
    {
      "cell_type": "code",
      "metadata": {
        "id": "productive-baseball",
        "colab": {
          "base_uri": "https://localhost:8080/"
        },
        "outputId": "acd24e07-a271-4d9a-d300-06ba4a0b6683"
      },
      "source": [
        "for k in range(5):\n",
        "    r = bernulli(k, 4, 0.25)\n",
        "    print(r)"
      ],
      "id": "productive-baseball",
      "execution_count": 11,
      "outputs": [
        {
          "output_type": "stream",
          "name": "stdout",
          "text": [
            "0.31640625\n",
            "0.421875\n",
            "0.2109375\n",
            "0.046875\n",
            "0.00390625\n"
          ]
        }
      ]
    },
    {
      "cell_type": "markdown",
      "metadata": {
        "id": "greek-solution"
      },
      "source": [
        "распределение вероятности выбора правильных ответов x:\n",
        "<table border=\"3\">\n",
        "    <tr>\n",
        "        <td>k</td>\n",
        "        <td>0</td>\n",
        "        <td>1</td>\n",
        "        <td>2</td>\n",
        "        <td>3</td>\n",
        "        <td>4</td>\n",
        "    </tr>\n",
        "    <tr>\n",
        "        <td>P(X=k)</td>\n",
        "        <td>0.31640625</td>\n",
        "        <td>0.421875</td>\n",
        "        <td>0.2109375</td>\n",
        "        <td>0.046875</td>\n",
        "        <td>0.00390625</td>\n",
        "    </tr>\n",
        "</table>"
      ],
      "id": "greek-solution"
    },
    {
      "cell_type": "markdown",
      "metadata": {
        "id": "medium-optics"
      },
      "source": [
        "Математическое ожидание для биноминалього распределения:  \n",
        "M(X) = np"
      ],
      "id": "medium-optics"
    },
    {
      "cell_type": "code",
      "metadata": {
        "id": "cloudy-planning",
        "colab": {
          "base_uri": "https://localhost:8080/"
        },
        "outputId": "42163c82-2879-49fc-ad89-b84cf3b38e1d"
      },
      "source": [
        "math_expect = 4 * 0.25\n",
        "print(math_expect)"
      ],
      "id": "cloudy-planning",
      "execution_count": 12,
      "outputs": [
        {
          "output_type": "stream",
          "name": "stdout",
          "text": [
            "1.0\n"
          ]
        }
      ]
    },
    {
      "cell_type": "markdown",
      "metadata": {
        "id": "planned-johnson"
      },
      "source": [
        "Дисперсия для биноминального распределения:"
      ],
      "id": "planned-johnson"
    },
    {
      "cell_type": "code",
      "metadata": {
        "id": "measured-august",
        "colab": {
          "base_uri": "https://localhost:8080/"
        },
        "outputId": "4a8d6ca5-0b4a-40e0-b2f2-dd9c55159e81"
      },
      "source": [
        "D = 4 * 0.25 * (1-0.25)\n",
        "print(D)"
      ],
      "id": "measured-august",
      "execution_count": 13,
      "outputs": [
        {
          "output_type": "stream",
          "name": "stdout",
          "text": [
            "0.75\n"
          ]
        }
      ]
    },
    {
      "cell_type": "markdown",
      "metadata": {
        "id": "external-hebrew"
      },
      "source": [
        "Задача 2"
      ],
      "id": "external-hebrew"
    },
    {
      "cell_type": "markdown",
      "metadata": {
        "id": "upset-elimination"
      },
      "source": [
        "Вероятность поймать рыбу при одном забрасывании удочки равна 0.01. Какова вероятность того, что число пойманных рыб при 200 забросах удочки будет не менее 5 и не более 10?"
      ],
      "id": "upset-elimination"
    },
    {
      "cell_type": "markdown",
      "metadata": {
        "id": "qualified-folks"
      },
      "source": [
        "Применим распределение Пуассона.  \n",
        "$λ = np$.  \n",
        "p = 0.25  \n",
        "n = 200  \n",
        "5 <= k <= 10"
      ],
      "id": "qualified-folks"
    },
    {
      "cell_type": "code",
      "metadata": {
        "scrolled": true,
        "id": "wound-cancer",
        "colab": {
          "base_uri": "https://localhost:8080/"
        },
        "outputId": "e14a0dec-3240-424e-fada-4a60c65a6c3d"
      },
      "source": [
        "p_lambda = 200 * 0.01\n",
        "print(p_lambda)"
      ],
      "id": "wound-cancer",
      "execution_count": 14,
      "outputs": [
        {
          "output_type": "stream",
          "name": "stdout",
          "text": [
            "2.0\n"
          ]
        }
      ]
    },
    {
      "cell_type": "code",
      "metadata": {
        "id": "human-noise",
        "colab": {
          "base_uri": "https://localhost:8080/"
        },
        "outputId": "c8d60141-4302-40f9-97dc-4adb20311535"
      },
      "source": [
        "total = 0\n",
        "for i in range (5, 11):\n",
        "    probability = p_poisson(i, p_lambda)\n",
        "    print(probability)\n",
        "    total += probability"
      ],
      "id": "human-noise",
      "execution_count": 15,
      "outputs": [
        {
          "output_type": "stream",
          "name": "stdout",
          "text": [
            "0.03608940886309672\n",
            "0.012029802954365574\n",
            "0.0034370865583901638\n",
            "0.0008592716395975409\n",
            "0.00019094925324389798\n",
            "3.8189850648779595e-05\n"
          ]
        }
      ]
    },
    {
      "cell_type": "code",
      "metadata": {
        "id": "authentic-forestry",
        "colab": {
          "base_uri": "https://localhost:8080/"
        },
        "outputId": "677eb954-85a8-4551-c20a-778592f12cd5"
      },
      "source": [
        "print(f\"Вероятность выловить от 5 до 10 (включительно) рыб при данных параметрах {round(total, 6) * 100} \")"
      ],
      "id": "authentic-forestry",
      "execution_count": 19,
      "outputs": [
        {
          "output_type": "stream",
          "name": "stdout",
          "text": [
            "Вероятность выловить от 5 до 10 (включительно) рыб при данных параметрах 5.2645 \n"
          ]
        }
      ]
    },
    {
      "cell_type": "markdown",
      "metadata": {
        "id": "finite-prototype"
      },
      "source": [
        "**Задача 3**"
      ],
      "id": "finite-prototype"
    },
    {
      "cell_type": "markdown",
      "metadata": {
        "id": "grave-occasions"
      },
      "source": [
        "В условиях предыдущей задачи сколько забросов удочки нужно сделать чтобы быть уверенным с вероятностью 0.9, что хотя бы 10 раз будет поймана рыба?\n",
        "\n",
        "_Подсказка_. Как посчитать `P(X >= k)` для величины `X`, имеющей биномиальное распределение? Здесь предстоит немножко покодить.\n"
      ],
      "id": "grave-occasions"
    },
    {
      "cell_type": "markdown",
      "metadata": {
        "id": "genuine-planning"
      },
      "source": [
        "Суммарная вероятность = 0.9, i = 10"
      ],
      "id": "genuine-planning"
    },
    {
      "cell_type": "markdown",
      "metadata": {
        "id": "surface-london"
      },
      "source": [
        "P(X=n) = 0.9  \n",
        "n=?"
      ],
      "id": "surface-london"
    },
    {
      "cell_type": "code",
      "metadata": {
        "scrolled": false,
        "id": "prime-campbell"
      },
      "source": [
        "p = 0.01\n",
        "k = 10"
      ],
      "id": "prime-campbell",
      "execution_count": null,
      "outputs": []
    },
    {
      "cell_type": "markdown",
      "metadata": {
        "id": "empty-governor"
      },
      "source": [
        "P(X >= 10) = 1 - P(X < 10)"
      ],
      "id": "empty-governor"
    },
    {
      "cell_type": "markdown",
      "metadata": {
        "id": "collective-square"
      },
      "source": [
        "Применим метод Пуассона"
      ],
      "id": "collective-square"
    },
    {
      "cell_type": "code",
      "metadata": {
        "id": "imposed-scope",
        "colab": {
          "base_uri": "https://localhost:8080/"
        },
        "outputId": "d6826033-6e5b-4396-9e7a-ba8faf8cfeca"
      },
      "source": [
        "for n in range (300, 5000):\n",
        "    p_lambda = 0.01 * n\n",
        "    P = 1 - sum(p_poisson(i, p_lambda) for i in range(10))    \n",
        "    if P > 0.099 and P < 0.1:        \n",
        "        print(f\"Полученное значение вероятности {P} достигнуто при {n} попытках\")\n",
        "    if P > 0.1:        \n",
        "        print(f\"Полученное значение вероятности {P} достигнуто при {n} попытках\")\n",
        "        break\n",
        "        \n"
      ],
      "id": "imposed-scope",
      "execution_count": 18,
      "outputs": [
        {
          "output_type": "stream",
          "name": "stdout",
          "text": [
            "Полученное значение вероятности 0.09913811522524696 достигнуто при 621 попытках\n",
            "Полученное значение вероятности 0.09990031163830515 достигнуто при 622 попытках\n",
            "Полученное значение вероятности 0.10066592227501103 достигнуто при 623 попытках\n"
          ]
        }
      ]
    },
    {
      "cell_type": "code",
      "metadata": {
        "id": "convertible-crowd",
        "colab": {
          "base_uri": "https://localhost:8080/"
        },
        "outputId": "c274b896-ef44-4702-9d1a-0517310b38b6"
      },
      "source": [
        "for n in range (300, 5000):\n",
        "    p_lambda = 0.01 * n\n",
        "    P = 1 - sum(p_poisson(i, p_lambda) for i in range(10))    \n",
        "    if P > 0.899 and P < 0.9:        \n",
        "        print(f\"Полученное значение вероятности {P} достигнуто при {n} попытках\")\n",
        "    if P > 0.9:        \n",
        "        print(f\"Полученное значение вероятности {P} достигнуто при {n} попытках\")\n",
        "        break"
      ],
      "id": "convertible-crowd",
      "execution_count": 17,
      "outputs": [
        {
          "output_type": "stream",
          "name": "stdout",
          "text": [
            "Полученное значение вероятности 0.89929526467099 достигнуто при 1419 попытках\n",
            "Полученное значение вероятности 0.8997364748565644 достигнуто при 1420 попытках\n",
            "Полученное значение вероятности 0.9001760722984115 достигнуто при 1421 попытках\n"
          ]
        }
      ]
    },
    {
      "cell_type": "code",
      "metadata": {
        "id": "significant-gross"
      },
      "source": [
        ""
      ],
      "id": "significant-gross",
      "execution_count": null,
      "outputs": []
    }
  ]
}