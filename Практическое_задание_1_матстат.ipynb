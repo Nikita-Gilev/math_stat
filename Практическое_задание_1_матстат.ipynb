{
  "nbformat": 4,
  "nbformat_minor": 0,
  "metadata": {
    "colab": {
      "name": "Практическое задание 1 матстат.ipynb",
      "provenance": [],
      "authorship_tag": "ABX9TyPPfbA7LZZAr8INKtFaKfBx",
      "include_colab_link": true
    },
    "kernelspec": {
      "name": "python3",
      "display_name": "Python 3"
    },
    "language_info": {
      "name": "python"
    }
  },
  "cells": [
    {
      "cell_type": "markdown",
      "metadata": {
        "id": "view-in-github",
        "colab_type": "text"
      },
      "source": [
        "<a href=\"https://colab.research.google.com/github/Nikita-Gilev/math_stat/blob/lesson-1/%D0%9F%D1%80%D0%B0%D0%BA%D1%82%D0%B8%D1%87%D0%B5%D1%81%D0%BA%D0%BE%D0%B5_%D0%B7%D0%B0%D0%B4%D0%B0%D0%BD%D0%B8%D0%B5_1_%D0%BC%D0%B0%D1%82%D1%81%D1%82%D0%B0%D1%82.ipynb\" target=\"_parent\"><img src=\"https://colab.research.google.com/assets/colab-badge.svg\" alt=\"Open In Colab\"/></a>"
      ]
    },
    {
      "cell_type": "markdown",
      "metadata": {
        "id": "sy67uFFPeuA5"
      },
      "source": [
        "Задача 1\n",
        "\n",
        "Группа студентов изучает 10 различных дисциплин. Сколькими способами можно составить расписание на понедельник, если в этот день должно быть 4 разных занятия?"
      ]
    },
    {
      "cell_type": "code",
      "metadata": {
        "colab": {
          "base_uri": "https://localhost:8080/"
        },
        "id": "FvFEOxhP0exF",
        "outputId": "c4975e48-1d14-45cb-9cb1-6434451bc7a3"
      },
      "source": [
        "import numpy as np\n",
        "def arrangements(n, k):\n",
        "    return np.math.factorial(n) // np.math.factorial(n - k)\n",
        "arrangements(10, 4)"
      ],
      "execution_count": 18,
      "outputs": [
        {
          "output_type": "execute_result",
          "data": {
            "text/plain": [
              "5040"
            ]
          },
          "metadata": {},
          "execution_count": 18
        }
      ]
    },
    {
      "cell_type": "markdown",
      "metadata": {
        "id": "KUqXn2OKiMO5"
      },
      "source": [
        "Задача 2\n",
        "\n",
        "Из колоды в 52 карты вынимают случайным образом 4 карты. Найти число исходов, соответствующих тому, что был вытянут хотя бы один туз."
      ]
    },
    {
      "cell_type": "markdown",
      "metadata": {
        "id": "xq-Bldjx0-X4"
      },
      "source": [
        "Задачу разделим на несколько вариантов\n",
        "\n",
        "вар 1. - 1 туз и 3 других карты"
      ]
    },
    {
      "cell_type": "code",
      "metadata": {
        "colab": {
          "base_uri": "https://localhost:8080/"
        },
        "id": "30dF97M82rmc",
        "outputId": "14223772-9ad3-470f-b78c-120f054c570a"
      },
      "source": [
        "def combinations(n, k):\n",
        "    return np.math.factorial(n) // (np.math.factorial(k) * np.math.factorial(n - k))\n",
        "a = combinations(4, 1) * combinations(32, 3)\n",
        "a"
      ],
      "execution_count": 22,
      "outputs": [
        {
          "output_type": "execute_result",
          "data": {
            "text/plain": [
              "19840"
            ]
          },
          "metadata": {},
          "execution_count": 22
        }
      ]
    },
    {
      "cell_type": "markdown",
      "metadata": {
        "id": "wycT7uUk25yB"
      },
      "source": [
        "вар 2. - 2 туза и 2 других карты"
      ]
    },
    {
      "cell_type": "code",
      "metadata": {
        "colab": {
          "base_uri": "https://localhost:8080/"
        },
        "id": "AQL61gy-ihRr",
        "outputId": "5bb6dcd4-1995-4573-8d79-88e808a3caa3"
      },
      "source": [
        "b = combinations(4, 2) * combinations(32, 2)\n",
        "b"
      ],
      "execution_count": 23,
      "outputs": [
        {
          "output_type": "execute_result",
          "data": {
            "text/plain": [
              "2976"
            ]
          },
          "metadata": {},
          "execution_count": 23
        }
      ]
    },
    {
      "cell_type": "markdown",
      "metadata": {
        "id": "piC7vxm63Cyp"
      },
      "source": [
        "вар 3 - 3 туза и другая карта"
      ]
    },
    {
      "cell_type": "code",
      "metadata": {
        "colab": {
          "base_uri": "https://localhost:8080/"
        },
        "id": "32IHl5pZ3Jpn",
        "outputId": "151d8eb5-26ab-4911-8f29-0d6d72c5a102"
      },
      "source": [
        "c = combinations(4, 3) * combinations(32, 1)\n",
        "c"
      ],
      "execution_count": 24,
      "outputs": [
        {
          "output_type": "execute_result",
          "data": {
            "text/plain": [
              "128"
            ]
          },
          "metadata": {},
          "execution_count": 24
        }
      ]
    },
    {
      "cell_type": "markdown",
      "metadata": {
        "id": "Ch3laOgJ3QLY"
      },
      "source": [
        "вар 4. - 4 туза"
      ]
    },
    {
      "cell_type": "code",
      "metadata": {
        "colab": {
          "base_uri": "https://localhost:8080/"
        },
        "id": "5tX45vPt3ShP",
        "outputId": "b439da7b-4266-40d4-8dd3-e0ea016d78c2"
      },
      "source": [
        "d = combinations(4, 4) * combinations(32, 0)\n",
        "d"
      ],
      "execution_count": 25,
      "outputs": [
        {
          "output_type": "execute_result",
          "data": {
            "text/plain": [
              "1"
            ]
          },
          "metadata": {},
          "execution_count": 25
        }
      ]
    },
    {
      "cell_type": "markdown",
      "metadata": {
        "id": "RQdczPgp3bby"
      },
      "source": [
        "Ответ:"
      ]
    },
    {
      "cell_type": "code",
      "metadata": {
        "colab": {
          "base_uri": "https://localhost:8080/"
        },
        "id": "trnfsfwR3dty",
        "outputId": "3101ebfb-5aa3-4649-f28c-2278f7ce54ae"
      },
      "source": [
        "a + b + c + d"
      ],
      "execution_count": 26,
      "outputs": [
        {
          "output_type": "execute_result",
          "data": {
            "text/plain": [
              "22945"
            ]
          },
          "metadata": {},
          "execution_count": 26
        }
      ]
    },
    {
      "cell_type": "markdown",
      "metadata": {
        "id": "xrkXmdNFxHTd"
      },
      "source": [
        "Задача 3\n",
        "\n",
        "Семь человек рассаживаются наудачу на скамейке. Какова вероятность того, что два определённых человека будут сидеть рядом?"
      ]
    },
    {
      "cell_type": "code",
      "metadata": {
        "colab": {
          "base_uri": "https://localhost:8080/"
        },
        "id": "9RukNHqoxSMf",
        "outputId": "6ac89ba5-b9b1-45db-d4dc-26b3c39c6606"
      },
      "source": [
        "def permutations(n):\n",
        "    return np.math.factorial(n)\n",
        "m = 6 * 2 * permutations(5)\n",
        "n = permutations(7)\n",
        "P = m / n*100\n",
        "P"
      ],
      "execution_count": 21,
      "outputs": [
        {
          "output_type": "execute_result",
          "data": {
            "text/plain": [
              "28.57142857142857"
            ]
          },
          "metadata": {},
          "execution_count": 21
        }
      ]
    },
    {
      "cell_type": "markdown",
      "metadata": {
        "id": "QoPsAKjl38Jz"
      },
      "source": [
        "Задача 4\n",
        "\n",
        "Из 60 вопросов, входящих в экзаменационные билеты, студент знает 50. Какова вероятность того, что среди трёх наугад выбранных вопросов студент знает: а) все? б) два?"
      ]
    },
    {
      "cell_type": "markdown",
      "metadata": {
        "id": "66p5rHbz4EXG"
      },
      "source": [
        "а)"
      ]
    },
    {
      "cell_type": "code",
      "metadata": {
        "colab": {
          "base_uri": "https://localhost:8080/"
        },
        "id": "PSsbTfzN4DuJ",
        "outputId": "fc093d3f-63b3-40f9-95f6-088d0c67795f"
      },
      "source": [
        "a = 5/6 * 5/6 * 5/6\n",
        "a"
      ],
      "execution_count": 27,
      "outputs": [
        {
          "output_type": "execute_result",
          "data": {
            "text/plain": [
              "0.5787037037037038"
            ]
          },
          "metadata": {},
          "execution_count": 27
        }
      ]
    },
    {
      "cell_type": "markdown",
      "metadata": {
        "id": "w5WvJu8E4NF9"
      },
      "source": [
        "б)"
      ]
    },
    {
      "cell_type": "code",
      "metadata": {
        "colab": {
          "base_uri": "https://localhost:8080/"
        },
        "id": "KvCpt0ue4OUA",
        "outputId": "671383b0-2b31-4de2-93d4-5d82925898a8"
      },
      "source": [
        "b = 5/6 * 5/6\n",
        "b"
      ],
      "execution_count": 28,
      "outputs": [
        {
          "output_type": "execute_result",
          "data": {
            "text/plain": [
              "0.6944444444444445"
            ]
          },
          "metadata": {},
          "execution_count": 28
        }
      ]
    },
    {
      "cell_type": "markdown",
      "metadata": {
        "id": "Mv6ejVOz4SAi"
      },
      "source": [
        "Задача 5\n",
        "\n",
        "Бросается игральная кость. Пусть событие A - появление чётного числа, событие B - появление числа больше трёх. Являются ли эти события независимыми?"
      ]
    },
    {
      "cell_type": "markdown",
      "metadata": {
        "id": "eURwnaxk5Ecq"
      },
      "source": [
        "Формула условной вероятности:\n",
        "$$P(A|B) = \\frac{P(AB)}{P(B)}$$\n",
        "\n",
        "P(AB) это выпадение 4 или 6 => 1/3\n",
        "\n",
        "P(B) = 1/2\n",
        "\n",
        "P(A|B) = 1/3 : 1/2 = 2/3\n",
        "\n",
        "Применим формулу определения зависимости : $$P(A|B) = P(A)$$\n",
        "\n",
        "  2/3 = 1/2 => События зависимы\n"
      ]
    },
    {
      "cell_type": "markdown",
      "metadata": {
        "id": "tJuYcVSn7pJX"
      },
      "source": [
        "Задача 6\n",
        "\n",
        "Допустим, имеется некоторая очень редкая болезнь (поражает 0.1 % населения). Вы приходите к врачу, вам делают тест на эту болезнь, и тест оказывается положительным. Врач говорит вам, что этот тест верно выявляет 99 % больных этой болезнью и всего лишь в 1 % случаев даёт ложный положительный ответ.\n",
        "\n",
        "Вопрос: какова вероятность, что вы действительно больны ей?\n",
        "\n",
        "Подсказка: вновь используйте формулу Байеса с раскрытием знаменателя с помощью формулы полной вероятности.\n",
        "\n"
      ]
    },
    {
      "cell_type": "markdown",
      "metadata": {
        "id": "Kwx6J71Y7uQs"
      },
      "source": [
        "Решение:\n",
        "\n",
        "t - результат тестирования\n",
        "\n",
        "i - наличие факта заболевания\n",
        "\n",
        "$$P(t = 1) = P(t = 1 | i = 1) * P(i = 1) + P(t = 1 | i = 0) * P(i = 0)$$\n",
        "\n",
        "Применим теорему Байеса:\n",
        "$$P(i = 1 | t = 1) = \\frac{P(t = 1|i = 1) * P(i = 1)}{P(t = 1 | i = 1) * P(i = 1) + P(t = 1 | i = 0) * P(i = 0)}$$\n",
        "\n",
        "$$P(i = 1 | t = 1) = \\frac{0,99 * 0,001}{0,99 * 0,001 + 0,01 * 0,999} = 0,09$$\n",
        "\n",
        "Ответ: 9%\n"
      ]
    }
  ]
}